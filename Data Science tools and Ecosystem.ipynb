{
 "cells": [
  {
   "cell_type": "markdown",
   "id": "c1e81c87",
   "metadata": {},
   "source": [
    "# Data science tools and Ecosystem "
   ]
  },
  {
   "cell_type": "markdown",
   "id": "5ca9fdb6",
   "metadata": {},
   "source": [
    "In this notebook, Data Science Tools and Ecosystem are summarized."
   ]
  },
  {
   "cell_type": "markdown",
   "id": "b130bba5",
   "metadata": {},
   "source": [
    "\n",
    "Some of the popular languages that Data Scientists use are\n",
    "\n",
    "  1.SQL \n",
    "  2.R \n",
    "  3.Python\n",
    "  4.Java\n",
    "  5.julia\n",
    "  6.MATLAB\n",
    "  "
   ]
  },
  {
   "cell_type": "markdown",
   "id": "349b029c",
   "metadata": {},
   "source": [
    "Some of the commonly used libraries used by Data Scientists include:\n",
    "  \n",
    "  1.Pandas\n",
    "  2.NumPy\n",
    "  3.SciPy \n",
    "  4.Matplotlib\n",
    "  5.Seaborn\n",
    "  6.TensorFlow\n",
    "  7.PyTorch\n",
    "  8.Scikit-Learn\n",
    "  9.Librosa\n",
    "  10.Keras"
   ]
  },
  {
   "cell_type": "markdown",
   "id": "84b28f3c",
   "metadata": {},
   "source": [
    "|Data Science Tools|\n",
    "|------------------|\n",
    "|Jupyter Notebook|\n",
    "|Anaconda|\n",
    "|Spyder|"
   ]
  },
  {
   "cell_type": "markdown",
   "id": "520c445c",
   "metadata": {},
   "source": [
    "### Below are a few examples of evaluating arithmetic expressions in Python:\n",
    "\n"
   ]
  },
  {
   "cell_type": "code",
   "execution_count": 3,
   "id": "df1c0501",
   "metadata": {},
   "outputs": [
    {
     "data": {
      "text/plain": [
       "17"
      ]
     },
     "execution_count": 3,
     "metadata": {},
     "output_type": "execute_result"
    }
   ],
   "source": [
    "# This a simple arithmetic expression to mutiply then add integers.\n",
    "\n",
    "(3*4)+5"
   ]
  },
  {
   "cell_type": "code",
   "execution_count": 5,
   "id": "51c661e6",
   "metadata": {},
   "outputs": [
    {
     "data": {
      "text/plain": [
       "3.3333333333333335"
      ]
     },
     "execution_count": 5,
     "metadata": {},
     "output_type": "execute_result"
    }
   ],
   "source": [
    "# This will convert 200 minutes to hours by diving by 60\n",
    "\n",
    "200/60"
   ]
  },
  {
   "cell_type": "markdown",
   "id": "47552119",
   "metadata": {},
   "source": [
    "  _Objectives_\n",
    "* List Popular Languages for Data Science\n",
    "* List Popular libraries for Data Science\n",
    "* List of most common  Data Science tools\n",
    "* How to Change Heading Style \n",
    "* Know about how to run  Mathematical and arithmetical expression "
   ]
  },
  {
   "cell_type": "markdown",
   "id": "5046b4b6",
   "metadata": {},
   "source": [
    "## Author\n",
    "\n",
    "\n",
    "Rahul Acharya\n",
    "\n"
   ]
  }
 ],
 "metadata": {
  "kernelspec": {
   "display_name": "Python 3 (ipykernel)",
   "language": "python",
   "name": "python3"
  },
  "language_info": {
   "codemirror_mode": {
    "name": "ipython",
    "version": 3
   },
   "file_extension": ".py",
   "mimetype": "text/x-python",
   "name": "python",
   "nbconvert_exporter": "python",
   "pygments_lexer": "ipython3",
   "version": "3.9.13"
  }
 },
 "nbformat": 4,
 "nbformat_minor": 5
}
